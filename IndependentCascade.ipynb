{
 "cells": [
  {
   "cell_type": "code",
   "execution_count": 1,
   "metadata": {},
   "outputs": [
    {
     "data": {
      "text/plain": [
       "Intitializing Scala interpreter ..."
      ]
     },
     "metadata": {},
     "output_type": "display_data"
    },
    {
     "data": {
      "text/plain": [
       "Spark Web UI available at http://LAPTOP-0NFRQ5HD:4040\n",
       "SparkContext available as 'sc' (version = 3.1.1, master = local[*], app id = local-1617951225622)\n",
       "SparkSession available as 'spark'\n"
      ]
     },
     "metadata": {},
     "output_type": "display_data"
    },
    {
     "data": {
      "text/plain": [
       "import org.apache.spark._\r\n",
       "import org.apache.spark.graphx._\r\n",
       "import org.apache.spark.rdd.RDD\r\n"
      ]
     },
     "execution_count": 1,
     "metadata": {},
     "output_type": "execute_result"
    }
   ],
   "source": [
    "import org.apache.spark._\n",
    "import org.apache.spark.graphx._\n",
    "import org.apache.spark.rdd.RDD"
   ]
  },
  {
   "cell_type": "code",
   "execution_count": 103,
   "metadata": {},
   "outputs": [
    {
     "data": {
      "text/plain": [
       "graph: org.apache.spark.graphx.Graph[String,Float] = org.apache.spark.graphx.impl.GraphImpl@44e8506f\r\n"
      ]
     },
     "execution_count": 103,
     "metadata": {},
     "output_type": "execute_result"
    }
   ],
   "source": [
    "val graph = GraphLoader.edgeListFile(sc,\"data/soc-karate.mtx\")\n",
    "                .mapEdges(e => scala.util.Random.nextFloat)\n",
    "                .mapVertices[String]((vid,i) =>  if(scala.util.Random.nextFloat <0.1) \"infected\" else \"susceptible\")"
   ]
  },
  {
   "cell_type": "code",
   "execution_count": 104,
   "metadata": {},
   "outputs": [
    {
     "data": {
      "text/plain": [
       "res66: Array[(org.apache.spark.graphx.VertexId, String)] = Array((34,susceptible), (4,susceptible), (16,susceptible), (22,infected), (28,susceptible), (30,susceptible), (14,susceptible), (32,susceptible), (24,susceptible), (6,susceptible), (8,susceptible), (12,susceptible), (18,susceptible), (20,infected), (26,susceptible), (10,susceptible), (2,susceptible), (13,susceptible), (19,infected), (15,susceptible), (21,susceptible), (25,susceptible), (29,susceptible), (11,susceptible), (27,susceptible), (33,susceptible), (23,infected), (1,susceptible), (17,susceptible), (3,susceptible), (7,susceptible), (9,susceptible), (31,susceptible), (5,susceptible))\r\n"
      ]
     },
     "execution_count": 104,
     "metadata": {},
     "output_type": "execute_result"
    }
   ],
   "source": [
    "graph.vertices.collect"
   ]
  },
  {
   "cell_type": "code",
   "execution_count": 116,
   "metadata": {},
   "outputs": [
    {
     "data": {
      "text/plain": [
       "mergeMsg: (m1: String, m2: String)String\r\n",
       "vprog: (VertexId: org.apache.spark.graphx.VertexId, VD: String, A: String)String\r\n",
       "sendMsg: (triplet: org.apache.spark.graphx.EdgeTriplet[String,Float])Iterator[(org.apache.spark.graphx.VertexId, String)]\r\n"
      ]
     },
     "execution_count": 116,
     "metadata": {},
     "output_type": "execute_result"
    }
   ],
   "source": [
    "def mergeMsg (m1:String, m2:String):String = {\n",
    "\n",
    "    if(m1==\"become_inactive\" && m2 == \"become_inactive\"){\n",
    "        return \"become_inactive\"\n",
    "    }\n",
    "    if (m1 == \"become_infected\" || m2 == \"become_infected\"){\n",
    "        return \"become_infected\"\n",
    "    }\n",
    "    return \"nothing\"\n",
    "}\n",
    "\n",
    "def vprog(VertexId:VertexId, VD:String, A:String): String ={\n",
    "    if (VD == \"susceptible\" && A == \"become_infected\"){\n",
    "        return \"infected\"\n",
    "    }\n",
    "    if(VD==\"infected\" && A == \"become_inactive\"){\n",
    "        return \"inactive\"\n",
    "    }\n",
    "    return VD\n",
    "}\n",
    "\n",
    "def sendMsg(triplet:EdgeTriplet[String, Float]): Iterator[(VertexId, String)]={\n",
    "    if (triplet.srcAttr == \"infected\"){\n",
    "        if (scala.util.Random.nextFloat < triplet.attr){\n",
    "            return Iterator((triplet.dstId,\"become_infected\"),(triplet.srcId,\"become_inactive\"))\n",
    "        }\n",
    "    return Iterator((triplet.srcId,\"become_inactive\"))\n",
    "    }\n",
    "    return Iterator()\n",
    "  \n",
    "}"
   ]
  },
  {
   "cell_type": "code",
   "execution_count": 117,
   "metadata": {
    "scrolled": false
   },
   "outputs": [
    {
     "data": {
      "text/plain": [
       "res76: Array[(org.apache.spark.graphx.VertexId, String)] = Array((34,susceptible), (4,susceptible), (16,susceptible), (22,inactive), (28,susceptible), (30,susceptible), (14,susceptible), (32,susceptible), (24,susceptible), (6,susceptible), (8,susceptible), (12,susceptible), (18,susceptible), (20,inactive), (26,susceptible), (10,susceptible), (2,inactive), (13,susceptible), (19,inactive), (15,susceptible), (21,susceptible), (25,susceptible), (29,susceptible), (11,susceptible), (27,susceptible), (33,susceptible), (23,inactive), (1,inactive), (17,susceptible), (3,susceptible), (7,susceptible), (9,susceptible), (31,susceptible), (5,susceptible))\r\n"
      ]
     },
     "execution_count": 117,
     "metadata": {},
     "output_type": "execute_result"
    }
   ],
   "source": [
    "graph.pregel(\"nothing\",Int.MaxValue,EdgeDirection.Out)(vprog,sendMsg,mergeMsg)\n",
    "    .mapVertices((vid,vdata) => if(vdata == \"infected\") \"inactive\" else vdata)\n",
    "    .vertices.collect()"
   ]
  },
  {
   "cell_type": "code",
   "execution_count": 110,
   "metadata": {},
   "outputs": [
    {
     "data": {
      "text/plain": [
       "res71: Array[org.apache.spark.graphx.EdgeTriplet[String,Float]] = Array(((33,susceptible),(23,infected),0.9540973), ((34,susceptible),(23,infected),0.3116812))\r\n"
      ]
     },
     "execution_count": 110,
     "metadata": {},
     "output_type": "execute_result"
    }
   ],
   "source": [
    "graph.triplets.filter(t => t.dstId == 23).collect"
   ]
  }
 ],
 "metadata": {
  "kernelspec": {
   "display_name": "spylon-kernel",
   "language": "scala",
   "name": "spylon-kernel"
  },
  "language_info": {
   "codemirror_mode": "text/x-scala",
   "file_extension": ".scala",
   "help_links": [
    {
     "text": "MetaKernel Magics",
     "url": "https://metakernel.readthedocs.io/en/latest/source/README.html"
    }
   ],
   "mimetype": "text/x-scala",
   "name": "scala",
   "pygments_lexer": "scala",
   "version": "0.4.1"
  }
 },
 "nbformat": 4,
 "nbformat_minor": 2
}
